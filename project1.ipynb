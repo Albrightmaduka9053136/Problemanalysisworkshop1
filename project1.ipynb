{
 "cells": [
  {
   "cell_type": "code",
   "execution_count": null,
   "id": "71ca359a",
   "metadata": {},
   "outputs": [],
   "source": [
    "# mental_health_eda.py\n",
    "\n",
    "import pandas as pd\n",
    "import matplotlib.pyplot as plt\n",
    "\n",
    "# 1. Load dataset\n",
    "df = pd.read_csv(\"mental_health.csv\")\n",
    "\n",
    "# 2. Quick look at data\n",
    "print(\"Dataset shape:\", df.shape)\n",
    "print(\"\\nFirst 5 rows:\\n\", df.head())\n",
    "print(\"\\nColumn names:\\n\", df.columns.tolist())\n",
    "print(\"\\nMissing values:\\n\", df.isnull().sum())\n",
    "\n",
    "# 3. Frequency of each diagnosis\n",
    "print(\"\\nExpert Diagnosis Counts:\\n\", df['Expert Diagnose'].value_counts())\n",
    "\n",
    "# Plot diagnosis distribution\n",
    "df['Expert Diagnose'].value_counts().plot(kind=\"bar\", title=\"Expert Diagnosis Distribution\")\n",
    "plt.ylabel(\"Number of Patients\")\n",
    "plt.show()\n",
    "\n",
    "# 4. Check symptom frequencies (example: sadness, mood swing, suicidal thoughts)\n",
    "symptoms = [\"Sadness\", \"Euphoric\", \"Exhausted\", \"Sleep dissorder\",\n",
    "            \"Mood Swing\", \"Suicidal thoughts\", \"Anorxia\"]\n",
    "\n",
    "for symptom in symptoms:\n",
    "    if symptom in df.columns:\n",
    "        print(f\"\\nSymptom Frequency - {symptom}:\\n\", df[symptom].value_counts())\n",
    "\n",
    "# 5. Cross-tab example: Sadness vs Diagnosis\n",
    "if \"Sadness\" in df.columns:\n",
    "    sadness_ct = pd.crosstab(df['Sadness'], df['Expert Diagnose'])\n",
    "    print(\"\\nCross-tab of Sadness vs Diagnosis:\\n\", sadness_ct)\n",
    "    sadness_ct.plot(kind=\"bar\", stacked=True, title=\"Sadness vs Diagnosis\")\n",
    "    plt.show()\n"
   ]
  },
  {
   "cell_type": "markdown",
   "id": "4c868115",
   "metadata": {},
   "source": [
    "printing hello word"
   ]
  }
 ],
 "metadata": {
  "language_info": {
   "name": "python"
  }
 },
 "nbformat": 4,
 "nbformat_minor": 5
}
