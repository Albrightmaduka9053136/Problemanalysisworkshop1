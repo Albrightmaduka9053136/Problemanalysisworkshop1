{
 "cells": [
  {
   "cell_type": "code",
   "execution_count": null,
   "id": "71ca359a",
   "metadata": {},
   "outputs": [],
   "source": [
    "print(\"hello world\")"
   ]
  },
  {
   "cell_type": "markdown",
   "id": "4c868115",
   "metadata": {},
   "source": [
    "printing hello word"
   ]
  }
 ],
 "metadata": {
  "language_info": {
   "name": "python"
  }
 },
 "nbformat": 4,
 "nbformat_minor": 5
}
