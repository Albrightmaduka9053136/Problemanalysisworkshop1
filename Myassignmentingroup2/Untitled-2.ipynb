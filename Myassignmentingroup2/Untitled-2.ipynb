{
 "cells": [
  {
   "cell_type": "markdown",
   "id": "4834220e",
   "metadata": {},
   "source": [
    "### PROBLEM ANALYSIS WORKSHOP 1 (DATA ANALYSIS MATHEMATICS, ALGORITHMS AND MODELING)\n",
    "## GROUP 2\n",
    "# TEAM MEMBERS:\n",
    "# ALBRIGHT MADUKA IFECHUKWUDE - 9053136\n",
    "# AISWARYA THEKKUVEETTIL THAZHATH - 8993970\n",
    "# ABDULLAHI ABDIRIZAK MOHAMED -\n",
    "\n",
    "# CHALLENGE 1\n",
    "\n",
    "# 1 Problem\n",
    "Cybersecurity threats are increasing, but people often ask unclear questions that make solutions unclear.\n",
    "\n",
    "# 2 Consequence of a Poorly Defined Question\n",
    "A question like “How do hackers attack?” is too broad. It leads to generic advice, missing specific threats such as phishing, SQL injections, or cloud misconfigurations.\n",
    "\n",
    "# 3 Field of Inquiry\n",
    "Cybersecurity – Cloud Security\n",
    "\n",
    "# 4 Prompt for Gen AI\n",
    "‘How do hackers attack?’ fail to capture critical cloud vulnerabilities. Identify common weaknesses, their impacts, and practical defenses.\"\n",
    "\n",
    "# 5 Understanding the Sources\n",
    "The dataset organizes 14,134 incidents into 26 domains, with details on vulnerabilities, tools, MITRE ATT&CK codes, and solutions. This ensures precise insights rather than broad generalizations.\n",
    "\n",
    "# 6 Short Essay (100 words max)\n",
    "A vague question like “How do hackers attack?” overlooks the complexity of cybersecurity. Research in cloud security incidents shows specific flaws—misconfigured storage, weak credentials, and poor encryption—that enable unauthorized access and massive data leaks. The dataset sources connect each case to MITRE ATT&CK codes, attack steps, and proven defenses. This structured detail reveals that effective prevention requires targeted actions, such as enforcing strong authentication, encrypting sensitive data, and monitoring access logs. Clear, precise inquiry transforms generic explanations into actionable strategies. By narrowing the question, we strengthen cloud defenses and reduce exposure to evolving cyber threats.\n",
    "\n",
    "# setup & configuration"
   ]
  },
  {
   "cell_type": "code",
   "execution_count": null,
   "id": "9b52d02a",
   "metadata": {},
   "outputs": [],
   "source": [
    "import pandas as pd\n",
    "print(\"Python:\", sys.version)\n",
    "print(\"pandas:\", pd.__version__)\n"
   ]
  }
 ],
 "metadata": {
  "kernelspec": {
   "display_name": ".venv",
   "language": "python",
   "name": "python3"
  },
  "language_info": {
   "name": "python",
   "version": "3.13.7"
  }
 },
 "nbformat": 4,
 "nbformat_minor": 5
}
